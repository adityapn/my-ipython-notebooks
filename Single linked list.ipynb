{
 "cells": [
  {
   "cell_type": "markdown",
   "metadata": {},
   "source": [
    "## Linked lists"
   ]
  },
  {
   "cell_type": "raw",
   "metadata": {},
   "source": [
    "Base structure of the Node and linked list"
   ]
  },
  {
   "cell_type": "code",
   "execution_count": 25,
   "metadata": {
    "collapsed": true
   },
   "outputs": [],
   "source": [
    "class Node:\n",
    "    value,link = None,None        "
   ]
  },
  {
   "cell_type": "code",
   "execution_count": 26,
   "metadata": {
    "collapsed": true
   },
   "outputs": [],
   "source": [
    "class SingleLinkedList:    \n",
    "    root, size = None, 0\n",
    "        "
   ]
  },
  {
   "cell_type": "markdown",
   "metadata": {},
   "source": [
    "Basic operations on the linked list: Appending, Adding first, Adding in the middle, Showing, Deleting."
   ]
  },
  {
   "cell_type": "code",
   "execution_count": 27,
   "metadata": {
    "collapsed": true
   },
   "outputs": [],
   "source": [
    "def append(ll,value):\n",
    "    ll.size += 1\n",
    "    if ll.root is None:\n",
    "        ll.root = Node()\n",
    "        ll.root.value = value\n",
    "        ll.root.link = None\n",
    "        return\n",
    "    temp = ll.root\n",
    "    while temp.link is not None:\n",
    "        temp = temp.link\n",
    "    newNode = Node()\n",
    "    newNode.value= value\n",
    "    newNode.link = None\n",
    "    temp.link = newNode\n",
    "\n",
    "def addFirst(ll,value):\n",
    "    if ll.root is None:\n",
    "        return append(ll,value)\n",
    "    newNode = Node()\n",
    "    newNode.value = value\n",
    "    newNode.link = ll.root\n",
    "    ll.root = newNode\n",
    "    ll.size += 1\n",
    "\n",
    "def addAfter(ll,value,position):\n",
    "    if ll.size < position:\n",
    "        print \"overflow\"\n",
    "        return\n",
    "    temp = ll.root\n",
    "    for iterator in range(0,position):\n",
    "        temp = temp.link\n",
    "    newNode = Node()\n",
    "    newNode.value = value\n",
    "    newNode.link = temp.link\n",
    "    temp.link = newNode\n",
    "\n",
    "\n",
    "def deleteNode(ll,nodeValue):\n",
    "    if ll.root is None:\n",
    "        return\n",
    "    # in case of deleting root node\n",
    "    if ll.root.value == nodeValue:\n",
    "        if ll.root.link is not None:\n",
    "            ll.root = ll.root.link\n",
    "            ll.size -= 1\n",
    "            return\n",
    "        ll.root = None\n",
    "    temp = ll.root\n",
    "    while temp.link is not None:\n",
    "        if temp.link.value == nodeValue:\n",
    "            break\n",
    "        temp = temp.link\n",
    "    temp.link = temp.link.link\n",
    "    ll.size -= 1\n",
    "\n",
    "def show(ll):\n",
    "    temp = ll.root\n",
    "    while temp is not None:\n",
    "        print temp.value\n",
    "        temp = temp.link   \n"
   ]
  },
  {
   "cell_type": "raw",
   "metadata": {},
   "source": [
    "For reversing a single linked list, we just have to update the links. The next node should point to previous node and do this till the end of the linked list and make last node as root node since entire linked list is reversed and head will be last node."
   ]
  },
  {
   "cell_type": "code",
   "execution_count": 23,
   "metadata": {
    "collapsed": true
   },
   "outputs": [],
   "source": [
    "def reverse(ll):\n",
    "    if ll is None:\n",
    "        return\n",
    "    current = ll.root\n",
    "    next = None\n",
    "    prev = None\n",
    "    while current is not None:\n",
    "        next = current.link\n",
    "        current.link = prev\n",
    "        prev = current\n",
    "        current = next\n",
    "    ll.root = prev\n"
   ]
  },
  {
   "cell_type": "code",
   "execution_count": 24,
   "metadata": {
    "collapsed": false,
    "scrolled": true
   },
   "outputs": [
    {
     "name": "stdout",
     "output_type": "stream",
     "text": [
      "5\n",
      "4\n",
      "3\n",
      "2\n",
      "1\n"
     ]
    }
   ],
   "source": [
    "ll = SingleLinkedList()\n",
    "append(ll,1)\n",
    "#append(ll,2)\n",
    "append(ll,3)\n",
    "append(ll,4)\n",
    "append(ll,5)\n",
    "addAfter(ll,2,0)\n",
    "\n",
    "reverse(ll)\n",
    "show(ll)\n"
   ]
  },
  {
   "cell_type": "code",
   "execution_count": null,
   "metadata": {
    "collapsed": true
   },
   "outputs": [],
   "source": []
  }
 ],
 "metadata": {
  "kernelspec": {
   "display_name": "Python 2",
   "language": "python",
   "name": "python2"
  },
  "language_info": {
   "codemirror_mode": {
    "name": "ipython",
    "version": 2
   },
   "file_extension": ".py",
   "mimetype": "text/x-python",
   "name": "python",
   "nbconvert_exporter": "python",
   "pygments_lexer": "ipython2",
   "version": "2.7.10"
  }
 },
 "nbformat": 4,
 "nbformat_minor": 0
}
