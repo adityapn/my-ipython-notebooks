{
 "cells": [
  {
   "cell_type": "markdown",
   "metadata": {},
   "source": [
    "## Linked lists"
   ]
  },
  {
   "cell_type": "raw",
   "metadata": {},
   "source": [
    "Base structure of the Node and linked list"
   ]
  },
  {
   "cell_type": "code",
   "execution_count": 145,
   "metadata": {
    "collapsed": true
   },
   "outputs": [],
   "source": [
    "#imports\n",
    "from Queue import Queue"
   ]
  },
  {
   "cell_type": "code",
   "execution_count": 146,
   "metadata": {
    "collapsed": true
   },
   "outputs": [],
   "source": [
    "class Node:\n",
    "    value,link = None,None        "
   ]
  },
  {
   "cell_type": "code",
   "execution_count": 147,
   "metadata": {
    "collapsed": true
   },
   "outputs": [],
   "source": [
    "class SingleLinkedList:    \n",
    "    root, size = None, 0\n",
    "        "
   ]
  },
  {
   "cell_type": "markdown",
   "metadata": {},
   "source": [
    "Basic operations on the linked list: Appending, Adding first, Adding in the middle, Showing, Deleting."
   ]
  },
  {
   "cell_type": "code",
   "execution_count": 148,
   "metadata": {
    "collapsed": true
   },
   "outputs": [],
   "source": [
    "def append(ll,value):\n",
    "    ll.size += 1\n",
    "    if ll.root is None:\n",
    "        ll.root = Node()\n",
    "        ll.root.value = value\n",
    "        ll.root.link = None\n",
    "        return\n",
    "    temp = ll.root\n",
    "    while temp.link is not None:\n",
    "        temp = temp.link\n",
    "    newNode = Node()\n",
    "    newNode.value= value\n",
    "    newNode.link = None\n",
    "    temp.link = newNode\n",
    "\n",
    "def addFirst(ll,value):\n",
    "    if ll.root is None:\n",
    "        return append(ll,value)\n",
    "    newNode = Node()\n",
    "    newNode.value = value\n",
    "    newNode.link = ll.root\n",
    "    ll.root = newNode\n",
    "    ll.size += 1\n",
    "\n",
    "def addAfter(ll,value,position):\n",
    "    if ll.size < position:\n",
    "        print \"overflow\"\n",
    "        return\n",
    "    temp = ll.root\n",
    "    for iterator in range(0,position):\n",
    "        temp = temp.link\n",
    "    newNode = Node()\n",
    "    newNode.value = value\n",
    "    newNode.link = temp.link\n",
    "    temp.link = newNode\n",
    "\n",
    "\n",
    "def deleteNode(ll,nodeValue):\n",
    "    if ll.root is None:\n",
    "        return\n",
    "    # in case of deleting root node\n",
    "    if ll.root.value == nodeValue:\n",
    "        if ll.root.link is not None:\n",
    "            ll.root = ll.root.link\n",
    "            ll.size -= 1\n",
    "            return\n",
    "        ll.root = None\n",
    "    temp = ll.root\n",
    "    while temp.link is not None:\n",
    "        if temp.link.value == nodeValue:\n",
    "            break\n",
    "        temp = temp.link\n",
    "    temp.link = temp.link.link\n",
    "    ll.size -= 1\n",
    "\n",
    "def show(ll):\n",
    "    temp = ll.root\n",
    "    while temp is not None:\n",
    "        print temp.value\n",
    "        temp = temp.link   \n"
   ]
  },
  {
   "cell_type": "raw",
   "metadata": {},
   "source": [
    "For reversing a single linked list, we just have to update the links. The next node should point to previous node and do this till the end of the linked list and make last node as root node since entire linked list is reversed and head will be last node."
   ]
  },
  {
   "cell_type": "code",
   "execution_count": 149,
   "metadata": {
    "collapsed": true
   },
   "outputs": [],
   "source": [
    "def reverse(ll):\n",
    "    if ll is None:\n",
    "        return\n",
    "    current = ll.root\n",
    "    next = None\n",
    "    prev = None\n",
    "    while current is not None:\n",
    "        next = current.link\n",
    "        current.link = prev\n",
    "        prev = current\n",
    "        current = next\n",
    "    ll.root = prev\n",
    "\n",
    "# recusrrive way of reversing\n",
    "def recurssiveWay(ll):    \n",
    "    def reverseRecc(ll,node):\n",
    "        if node is None:\n",
    "            return\n",
    "        if node.link is None:\n",
    "            ll.root = node\n",
    "            return\n",
    "        \n",
    "        reverseRecc(ll,node.link)\n",
    "        next_node = node.link\n",
    "        next_node.link = node\n",
    "        # for the first pass the second point to None\n",
    "        # which becomes last node.\n",
    "        # we are mapping next node to current node\n",
    "        node.link = None\n",
    "    \n",
    "    reverseRecc(ll,ll.root)"
   ]
  },
  {
   "cell_type": "markdown",
   "metadata": {},
   "source": [
    "Simple problems based on traversing the linked list. (Easy stuff)"
   ]
  },
  {
   "cell_type": "code",
   "execution_count": 150,
   "metadata": {
    "collapsed": false
   },
   "outputs": [],
   "source": [
    "\n",
    "def middleNode(ll):\n",
    "    if ll.root is None or ll.root.link is None:\n",
    "        return\n",
    "    fast = ll.root\n",
    "    slow = ll.root\n",
    "    iterator = 1\n",
    "    while fast is not None:\n",
    "        if iterator%2 == 0:\n",
    "            slow = slow.link\n",
    "        fast = fast.link\n",
    "        iterator+=1\n",
    "    return slow\n",
    "\n",
    "def getNthNode(ll,position):\n",
    "    if ll.root is None or position > ll.size:\n",
    "        print \"overflow\"\n",
    "        return\n",
    "    iterator = ll.root\n",
    "    for i in range(0,position):        \n",
    "        iterator = iterator.link\n",
    "        if iterator is None:\n",
    "            break\n",
    "    return iterator.value\n",
    "\n",
    "def getNthNodeFromLast(ll,position):\n",
    "    if ll.root is None:\n",
    "        return\n",
    "    size = ll.size\n",
    "    from_start = size - position\n",
    "    iterator = ll.root\n",
    "    for i in range(0,from_start):\n",
    "        iterator = iterator.link\n",
    "    return iterator.value\n",
    "\n",
    "    "
   ]
  },
  {
   "cell_type": "markdown",
   "metadata": {},
   "source": [
    "Questions around recurssive and non recurssive ways on same result!"
   ]
  },
  {
   "cell_type": "code",
   "execution_count": 151,
   "metadata": {
    "collapsed": true
   },
   "outputs": [],
   "source": [
    "def findLen(ll):\n",
    "    if ll.root is None:\n",
    "        return 0\n",
    "    size = 0\n",
    "    iterator = ll.root\n",
    "    while iterator is not None:\n",
    "        iterator = iterator.link\n",
    "    return size\n",
    "\n",
    "def findLenRecurssive(ll):    \n",
    "    def findSize(node):\n",
    "        if node is None:\n",
    "            return 0\n",
    "        return findSize(node.link)+1\n",
    "    return findSize(ll.root)\n",
    "\n",
    "# search element in recurssive way\n",
    "def searchRecurssiveStyle(ll,element):\n",
    "    \n",
    "    def findElement(node,element):\n",
    "        if node is None:\n",
    "            return None\n",
    "        if node.value == element:\n",
    "            return node\n",
    "        return findElement(node.link,element)\n",
    "    \n",
    "    return findElement(ll.root,element)\n",
    "\n",
    "# deleteing whole linked list iterative and recurrsive ways\n",
    "def deleteLinkedList(ll):\n",
    "    if ll.root is None:\n",
    "        return\n",
    "    iterator = ll.root\n",
    "    while iterator is not None:\n",
    "        next = iterator.link\n",
    "        iterator.link = None\n",
    "        iterator = next\n",
    "    ll.root = None\n",
    "\n",
    "def deleteLinedListRecurrsiveWay(ll):    \n",
    "    def deleteNode(ll,node):\n",
    "        if node is None:\n",
    "            return\n",
    "        if node.link is None:\n",
    "            ll.root = None\n",
    "            return\n",
    "           \n",
    "        \n",
    "        deleteNode(ll,node.link)\n",
    "        next_node = node.link\n",
    "        node.link = None\n",
    "        node = next_node\n",
    "    deleteNode(ll,ll.root)        "
   ]
  },
  {
   "cell_type": "markdown",
   "metadata": {},
   "source": [
    "Little misc stuff"
   ]
  },
  {
   "cell_type": "code",
   "execution_count": 152,
   "metadata": {
    "collapsed": true
   },
   "outputs": [],
   "source": [
    "def isPalindrome(ll):\n",
    "    # store the slow node values in the stack \n",
    "    if ll.root is None:\n",
    "        return\n",
    "    stack = []\n",
    "    fast = ll.root\n",
    "    slow = ll.root\n",
    "    counter = 1\n",
    "    while fast is not None:\n",
    "        if counter%2 == 0:\n",
    "            stack.append(slow.value)\n",
    "            slow = slow.link\n",
    "        fast = fast.link\n",
    "        counter+=1\n",
    "    \n",
    "    size = counter - 1\n",
    "    # incase of odd no of nodes, they have extra middle which is negligible\n",
    "    if size % 2 != 0:        \n",
    "        slow = slow.link\n",
    "    # pop elements ( which will be reversed ) and check with slow pointer which was stopped\n",
    "    # at the middle of the linked list.\n",
    "    while len(stack) and slow is not None:\n",
    "        value = stack.pop()\n",
    "        if value != slow.value:\n",
    "            return False\n",
    "        slow = slow.link\n",
    "\n",
    "    return True\n"
   ]
  },
  {
   "cell_type": "code",
   "execution_count": 153,
   "metadata": {
    "collapsed": false,
    "scrolled": true
   },
   "outputs": [
    {
     "name": "stdout",
     "output_type": "stream",
     "text": [
      "5\n",
      "4\n",
      "3\n",
      "2\n",
      "1\n"
     ]
    }
   ],
   "source": [
    "ll = SingleLinkedList()\n",
    "append(ll,1)\n",
    "append(ll,2)\n",
    "append(ll,3)\n",
    "append(ll,4)\n",
    "append(ll,5)\n",
    "recurssiveWay(ll)\n",
    "show(ll)\n",
    "\n"
   ]
  }
 ],
 "metadata": {
  "kernelspec": {
   "display_name": "Python 2",
   "language": "python",
   "name": "python2"
  },
  "language_info": {
   "codemirror_mode": {
    "name": "ipython",
    "version": 2
   },
   "file_extension": ".py",
   "mimetype": "text/x-python",
   "name": "python",
   "nbconvert_exporter": "python",
   "pygments_lexer": "ipython2",
   "version": "2.7.10"
  }
 },
 "nbformat": 4,
 "nbformat_minor": 0
}
